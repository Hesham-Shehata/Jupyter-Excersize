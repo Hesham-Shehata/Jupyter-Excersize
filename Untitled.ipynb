{
 "cells": [
  {
   "cell_type": "markdown",
   "id": "47ee1dd1-665c-46ec-bad6-874175b0273d",
   "metadata": {},
   "source": [
    "<H1>My Jupyter Notebook on IBM Watson Studio"
   ]
  },
  {
   "cell_type": "markdown",
   "id": "96c5fb8c-1a7a-40c3-8dc5-4d4dfad9f255",
   "metadata": {},
   "source": [
    "**Hesham Shehata** <br>\n",
    "I'm a math student"
   ]
  },
  {
   "cell_type": "markdown",
   "id": "06f099c0-c497-41ac-aaec-0109d047cf19",
   "metadata": {},
   "source": [
    "*I'm intersted in data science*"
   ]
  },
  {
   "cell_type": "code",
   "execution_count": 1,
   "id": "f90be49f-7d79-40db-8e4d-232e688922e6",
   "metadata": {},
   "outputs": [
    {
     "data": {
      "text/plain": [
       "9"
      ]
     },
     "execution_count": 1,
     "metadata": {},
     "output_type": "execute_result"
    }
   ],
   "source": [
    "x = 5\n",
    "y = 4\n",
    "z = x + y\n",
    "z"
   ]
  },
  {
   "cell_type": "code",
   "execution_count": null,
   "id": "f55ccd0a-4437-434b-8bf1-ef8e5b43e825",
   "metadata": {},
   "outputs": [],
   "source": []
  }
 ],
 "metadata": {
  "kernelspec": {
   "display_name": "Python",
   "language": "python",
   "name": "conda-env-python-py"
  },
  "language_info": {
   "codemirror_mode": {
    "name": "ipython",
    "version": 3
   },
   "file_extension": ".py",
   "mimetype": "text/x-python",
   "name": "python",
   "nbconvert_exporter": "python",
   "pygments_lexer": "ipython3",
   "version": "3.7.12"
  }
 },
 "nbformat": 4,
 "nbformat_minor": 5
}
